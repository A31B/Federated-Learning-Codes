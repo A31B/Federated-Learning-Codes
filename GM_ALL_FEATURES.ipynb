{
  "nbformat": 4,
  "nbformat_minor": 0,
  "metadata": {
    "colab": {
      "provenance": []
    },
    "kernelspec": {
      "name": "python3",
      "display_name": "Python 3"
    },
    "language_info": {
      "name": "python"
    }
  },
  "cells": [
    {
      "cell_type": "code",
      "execution_count": null,
      "metadata": {
        "colab": {
          "base_uri": "https://localhost:8080/"
        },
        "id": "FoGn419wtS2G",
        "outputId": "2f2de1b6-41d4-4319-9f37-abe03593fe17"
      },
      "outputs": [
        {
          "output_type": "stream",
          "name": "stdout",
          "text": [
            "Results saved to 'model_results_with_global_model_sent_back.csv'\n"
          ]
        }
      ],
      "source": []
    },
    {
      "cell_type": "code",
      "source": [
        "import pandas as pd\n",
        "from sklearn.linear_model import LogisticRegression\n",
        "from sklearn.metrics import accuracy_score, precision_score\n",
        "from sklearn.model_selection import train_test_split\n",
        "import numpy as np\n",
        "\n",
        "# Load the dataset into a pandas dataframe\n",
        "df = pd.read_csv('ADSXLIST_07Sep2023.csv')\n",
        "\n",
        "# Define categorical features for one-hot encoding\n",
        "categorical_features = ['VISCODE', 'VISCODE2', 'SITEID']\n",
        "df = pd.get_dummies(df, columns=categorical_features)\n",
        "\n",
        "# Define a fixed set of features to be used by all nodes\n",
        "selected_features = ['AXRASH','AXMUSCLE', 'AXURNFRQ', 'AXENERGY', 'AXDROWSY', 'AXDIZZY', 'AXBREATH','AXCOUGH'] + df.columns[df.columns.str.startswith(('VISCODE', 'VISCODE2', 'SITEID'))].tolist()\n",
        "\n",
        "# Define the number of iterations and splits\n",
        "num_iterations = 10\n",
        "num_splits = 6\n",
        "\n",
        "# Initialize dictionaries to store accuracy and precision for each node across iterations\n",
        "global_accuracy = {f'Node {i+1}': [] for i in range(num_splits)}\n",
        "global_precision = {f'Node {i+1}': [] for i in range(num_splits)}\n",
        "\n",
        "for iteration in range(num_iterations):\n",
        "    # Shuffle the data randomly for each iteration\n",
        "    df_shuffled = df.sample(frac=1, random_state=iteration * 123)\n",
        "\n",
        "    # Initial Splitting of the data into sections\n",
        "    split_size = len(df_shuffled) // num_splits\n",
        "    data_splits = [df_shuffled.iloc[i * split_size: (i + 1) * split_size] for i in range(num_splits)]\n",
        "\n",
        "    # Data Shifting: Move 25% data from each node to the next\n",
        "    for i in range(num_splits):\n",
        "        next_index = (i + 1) % num_splits\n",
        "        data_to_shift = data_splits[i].sample(frac=0.25, random_state=iteration)\n",
        "        data_splits[i] = data_splits[i].drop(data_to_shift.index)\n",
        "        data_splits[next_index] = pd.concat([data_splits[next_index], data_to_shift])\n",
        "\n",
        "    # Lists for storing model parameters\n",
        "    coefficients_list = []\n",
        "    intercepts_list = []\n",
        "\n",
        "    # Train local models and collect their parameters\n",
        "    for i in range(num_splits):\n",
        "        split_data = data_splits[i]\n",
        "\n",
        "        X = split_data[selected_features].copy()\n",
        "        y = split_data['Phase'].copy()\n",
        "\n",
        "        # Data preprocessing steps\n",
        "        X.fillna(0, inplace=True)\n",
        "\n",
        "        X_train, X_test, y_train, y_test = train_test_split(X, y, test_size=0.4, random_state=359)\n",
        "\n",
        "        model = LogisticRegression(max_iter=1000)\n",
        "        model.fit(X_train, y_train)\n",
        "\n",
        "        coefficients_list.append(model.coef_)\n",
        "        intercepts_list.append(model.intercept_)\n",
        "\n",
        "    # Federated Averaging: Calculate mean of coefficients and intercepts\n",
        "    avg_coefficients = np.mean(coefficients_list, axis=0)\n",
        "    avg_intercepts = np.mean(intercepts_list, axis=0)\n",
        "\n",
        "    # Create the global model using the averaged coefficients and intercepts\n",
        "    global_model = LogisticRegression(max_iter=1000)\n",
        "    global_model.coef_ = avg_coefficients\n",
        "    global_model.intercept_ = avg_intercepts\n",
        "    global_model.classes_ = np.unique(y)\n",
        "\n",
        "    # Send the global model back to all nodes and perform testing\n",
        "    for i in range(num_splits):\n",
        "        split_data = data_splits[i]\n",
        "\n",
        "        X_test = split_data[selected_features].copy()\n",
        "        y_test = split_data['Phase'].copy()\n",
        "\n",
        "        # Data preprocessing (if necessary)\n",
        "        X_test.fillna(0, inplace=True)\n",
        "\n",
        "        # Use the global model to predict on the node's test data\n",
        "        y_pred = global_model.predict(X_test.to_numpy())\n",
        "\n",
        "        # Calculate accuracy and precision for the node\n",
        "        accuracy = accuracy_score(y_test, y_pred)\n",
        "        precision = precision_score(y_test, y_pred, average='weighted', zero_division=0)\n",
        "\n",
        "        # Store the results for this node for this iteration\n",
        "        global_accuracy[f'Node {i+1}'].append(accuracy)\n",
        "        global_precision[f'Node {i+1}'].append(precision)\n",
        "\n",
        "# Organize the results into DataFrames, one for accuracy and one for precision\n",
        "accuracy_df = pd.DataFrame(global_accuracy)\n",
        "accuracy_df.index.name = 'Iteration'\n",
        "precision_df = pd.DataFrame(global_precision)\n",
        "precision_df.index.name = 'Iteration'\n",
        "\n",
        "# Save the results to CSV files\n",
        "accuracy_df.to_csv('model_accuracy_with_global_model_sent_back.csv')\n",
        "precision_df.to_csv('model_precision_with_global_model_sent_back.csv')\n",
        "\n",
        "print(\"Accuracy results saved to 'model_accuracy_with_global_model_sent_back.csv'\")\n",
        "print(\"Precision results saved to 'model_precision_with_global_model_sent_back.csv'\")\n"
      ],
      "metadata": {
        "colab": {
          "base_uri": "https://localhost:8080/"
        },
        "id": "lhiP334zug3f",
        "outputId": "0bd2b02d-005d-48b8-8f36-21d106186b18"
      },
      "execution_count": null,
      "outputs": [
        {
          "output_type": "stream",
          "name": "stdout",
          "text": [
            "Accuracy results saved to 'model_accuracy_with_global_model_sent_back.csv'\n",
            "Precision results saved to 'model_precision_with_global_model_sent_back.csv'\n"
          ]
        }
      ]
    },
    {
      "cell_type": "code",
      "source": [],
      "metadata": {
        "id": "rRm1GoTcwcVl"
      },
      "execution_count": null,
      "outputs": []
    }
  ]
}